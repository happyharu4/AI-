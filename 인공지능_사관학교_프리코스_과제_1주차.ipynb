{
  "nbformat": 4,
  "nbformat_minor": 0,
  "metadata": {
    "colab": {
      "name": "인공지능 사관학교 프리코스 과제 1주차",
      "provenance": [],
      "authorship_tag": "ABX9TyPq79fh7NwKEKHhqR8WAP/b",
      "include_colab_link": true
    },
    "kernelspec": {
      "name": "python3",
      "display_name": "Python 3"
    }
  },
  "cells": [
    {
      "cell_type": "markdown",
      "metadata": {
        "id": "view-in-github",
        "colab_type": "text"
      },
      "source": [
        "<a href=\"https://colab.research.google.com/github/happyharu4/AI-/blob/master/%EC%9D%B8%EA%B3%B5%EC%A7%80%EB%8A%A5_%EC%82%AC%EA%B4%80%ED%95%99%EA%B5%90_%ED%94%84%EB%A6%AC%EC%BD%94%EC%8A%A4_%EA%B3%BC%EC%A0%9C_1%EC%A3%BC%EC%B0%A8.ipynb\" target=\"_parent\"><img src=\"https://colab.research.google.com/assets/colab-badge.svg\" alt=\"Open In Colab\"/></a>"
      ]
    },
    {
      "cell_type": "code",
      "metadata": {
        "id": "elv6t17O6EDz",
        "colab_type": "code",
        "colab": {}
      },
      "source": [
        "인공지능 사관학교 프리코스 과제 1주차\n",
        "인공지능을 접목한 언어,음성,이미지,자율주행 분야의 제품들과 서비스의 기술분석 및 흥미있는 기술찾기\n",
        "\n",
        "1.언어\n",
        " 자연언어 처리 기술 : 자동번역 및 통역 등을 처리 \n",
        " 트래비스의 양방향 통역기 ‘Touch Plus(터치 플러스) 인공지능을 활용해 100개 이상의 언어를 실시간으로 번역, 대화 모드를 통해 두 가지 언어를 동시에 통역\n",
        " 출처:https://post.naver.com/viewer/postView.nhn?volumeNo=26062708&memberNo=16226184\n",
        "\n",
        "2.음성\n",
        " google 어시스턴트\n",
        "커뮤니케이션(통화)\n",
        "스마트폰에서만 사용 가능한 요청(SMS,이메일,WhatsApp)\n",
        "기기 조작하기(설정 변경)\n",
        "휴대전화 제어(참고,앱에서 검색,사진 찾기)\n",
        "하루 계획(알람,예약)\n",
        "다양한 작업 처리하기(쇼핑,기부,도움말)\n",
        "출처:https://support.google.com/assistant/answer/7172842\n",
        "\n",
        "3.이미지\n",
        "구글 포토(Google Photo) \n",
        "사진 서비스는 이미지들을 여러 그룹에 분석, 정리할 수 있으며 바닷가, 스카이라인, 토론토의 눈보라와 같은 기능을 식별할 수 있다.\n",
        "응용 프로그램의 검색 창에서는 3가지 분류로 사진 그룹에 대한 검색이 사용자에게 표시된다: 인물, 장소, 물건.\n",
        "이 서비스는 비슷한 얼굴에 대한 사진을 분석하고 인물 분류에서 이들을 한데 묶어준다.\n",
        "나이가 듦에 따라서도 얼굴을 추적할 수 있다. 장소 분류는 지오태깅 데이터를 사용하지만,\n",
        "주요 랜드마크를 분석함으로써 오래된 사진의 장소를 결정할 수도 있다.\n",
        "물건 분류는 물건에 대해 사진을 처리할 수 있다: 생일, 건물, 고양이, 콘서트, 음식, 졸업, 포스터, 스크린샷 등.\n",
        "사용자들은 수동으로 분류 오류를 제거할 수 있다.\n",
        "출처:https://ko.wikipedia.org/wiki/%EA%B5%AC%EA%B8%80_%ED%8F%AC%ED%86%A0\n",
        "\n",
        "4.자율주행\n",
        "자율주행 자동차가 스스로 주행하려면 인지∙판단∙제어 등 세 가지 기능이 반드시 필요하다.\n",
        "인지 기능은 카메라∙레이더∙라이다(LiDAR) 등 차체 내 센서 정보를 처리해 주변 환경 정보를 알아차리는 것,\n",
        "판단 기능은 인지된 정보를 이용해 향후 벌어질 일을 예측한 후 가장 안전하고 빠른 차량 궤적을 생성하는 것,\n",
        "제어 기능은 최종적으로 생성된 차량 궤적을 부드럽고 정확하게 따라갈 수 있도록 운전대∙액셀러레이터∙브레이크를 조작하는 것이다.\n",
        "출처:https://news.samsung.com/kr/%EC%9E%90%EC%9C%A8%EC%A3%BC%ED%96%89-%EC%9E%90%EB%8F%99%EC%B0%A8-%EB%94%A5%EB%9F%AC%EB%8B%9D%EC%9C%BC%EB%A1%9C-%EC%8B%9C%EB%8F%99-%EA%B1%B4%EB%8B%A4\n",
        "\n",
        "5.흥미로운 기술 및 서비스\n",
        "인공지능으로 시각장애인을 포함한 사회적 약자의 생활에 도움이 되는것.\n",
        "마이크로소프트(Microsoft)의 ‘Seeing AI’: 스마트폰에 탑재된 카메라를 통해 인식되는 사물, 사람 및 주변 환경을 인공지능이 분석해 음성으로 설명해 준다.\n",
        " 또한, 문자인식 기능을 통해 직장생활에서 스스로 서류를 검토하거나 작성할 수 있으며 바코드 안내 및 지폐인식 기능을 통해 쇼핑할 수 있다.\n",
        " 뿐만 아니라, 시각장애인이 새로운 장소에 갔을 때 주변 환경을 인식하고, 마주하고 있는 사람의 나이 및 감정 상태를 파악할 수 있어,보다 원만한 사회생활을 하는 데 도움을 줄 수 있다고 합니다.\n",
        "구글(Google)의 ‘LookOut’: 인공지능 기술을 이용해 스마트폰 카메라에 비친 글자, 사물 등을 인식한 후 음성으로 설명해줌으로써,\n",
        " 시각장애인이 일상생활 속에서 사물, 바코드 및 화폐, 도로 표지판 및 서류 등을 타인의 도움 없이 스스로 인식하도록 도와준다.\n",
        "포드(Ford)사의 ‘Feel The View’:시각장애인들이 달리는 자동차 안에서 창밖 풍경의 아름다움을 느낄 수 있도록 창문에 바깥 풍경을 표현한 255가지 강도의 진동을 전송하는 ’Feel The View’를 개발하고 있다.\n",
        "SKT AI센터의 T-Brain\n",
        "출처:https://www.sktinsight.com/116630"
      ],
      "execution_count": 0,
      "outputs": []
    }
  ]
}